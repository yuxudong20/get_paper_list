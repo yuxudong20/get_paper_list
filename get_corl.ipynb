{
 "cells": [
  {
   "cell_type": "code",
   "execution_count": 9,
   "metadata": {},
   "outputs": [
    {
     "name": "stderr",
     "output_type": "stream",
     "text": [
      "<ipython-input-9-df1e87aba2c4>:7: YAMLLoadWarning: calling yaml.load() without Loader=... is deprecated, as the default Loader is unsafe. Please read https://msg.pyyaml.org/load for full details.\n",
      "  yaml_data = yaml.load(file)\n"
     ]
    },
    {
     "name": "stdout",
     "output_type": "stream",
     "text": [
      "201信息已成功提取并保存到 corl2023.html 文件中。\n"
     ]
    }
   ],
   "source": [
    "import yaml\n",
    "\n",
    "# 读取 YAML 文件内容\n",
    "# paper_dir = 'corl2022'\n",
    "paper_dir = 'corl2023'\n",
    "with open(f'{paper_dir}.yaml', 'r') as file:\n",
    "    yaml_data = yaml.load(file)\n",
    "\n",
    "papers = []\n",
    "for entry in yaml_data:\n",
    "    title = entry.get('title', 'N/A')\n",
    "    authors = ', '.join([f\"{author['given']} {author['family']}\" for author in entry.get('author', [])])\n",
    "    abstract = entry.get('abstract', 'N/A')\n",
    "    url = entry.get('URL', 'N/A')\n",
    "    \n",
    "\n",
    "    paper = {\n",
    "        'title': title,\n",
    "        'authors': authors,\n",
    "        'year': paper_dir,\n",
    "        'abstract': abstract,\n",
    "        'url': url,\n",
    "    }\n",
    "    papers.append(paper)\n",
    "\n",
    "with open(f'{paper_dir}.html', 'w', encoding='utf-8') as htmlfile:\n",
    "    htmlfile.write('''\n",
    "    <!DOCTYPE html>\n",
    "    <html lang=\"en\">\n",
    "    <head>\n",
    "        <meta charset=\"UTF-8\">\n",
    "        <meta name=\"viewport\" content=\"width=device-width, initial-scale=1.0\">\n",
    "        <title>Papers</title>\n",
    "        <style>\n",
    "            table {\n",
    "                width: 100%;\n",
    "                border-collapse: collapse;\n",
    "            }\n",
    "            th, td {\n",
    "                border: 1px solid #ddd;\n",
    "                padding: 8px;\n",
    "                word-wrap: break-word;\n",
    "                max-width: 200px;\n",
    "            }\n",
    "            th {\n",
    "                background-color: #f2f2f2;\n",
    "            }\n",
    "            td:nth-child(4) {\n",
    "                width: 50%; /* 使abstract列的宽度是其他列的两倍 */\n",
    "            }\n",
    "        </style>\n",
    "    </head>\n",
    "    <body>\n",
    "        <h1>Papers</h1>\n",
    "        <table>\n",
    "            <tr>\n",
    "                <th>Title</th>\n",
    "                <th>Authors</th>\n",
    "                <th>Year</th>\n",
    "                <th>Abstract</th>\n",
    "                <th>URL</th>\n",
    "            </tr>\n",
    "    ''')\n",
    "\n",
    "    for paper in papers:\n",
    "        htmlfile.write(f'''\n",
    "            <tr>\n",
    "                <td>{paper['title']}</td>\n",
    "                <td>{', '.join(paper['authors'])}</td>\n",
    "                <td>{paper['year']}</td>\n",
    "                <td>{paper['abstract']}</td>\n",
    "                <td><a href=\"{paper['url']}\">{paper['url']}</a></td>\n",
    "            </tr>\n",
    "        ''')\n",
    "\n",
    "    htmlfile.write('''\n",
    "        </table>\n",
    "    </body>\n",
    "    </html>\n",
    "    ''')\n",
    "\n",
    "print(f\"{len(papers)}信息已成功提取并保存到 {paper_dir}.html 文件中。\")"
   ]
  },
  {
   "cell_type": "code",
   "execution_count": 10,
   "metadata": {},
   "outputs": [
    {
     "name": "stdout",
     "output_type": "stream",
     "text": [
      "位置 92433 周围的上下文:\n",
      "rent difficulty levels, surpassing state-of-the ar\n"
     ]
    }
   ],
   "source": [
    "# 忽略\n",
    "def inspect_position(file_path, position):\n",
    "    with open(file_path, 'r', encoding='utf-8', errors='replace') as file:\n",
    "        file.seek(position)\n",
    "        context = file.read(50)  # 读取位置周围的50个字符\n",
    "        print(f\"位置 {position} 周围的上下文:\\n{context}\")\n",
    "\n",
    "paper_dir = 'corl2023'\n",
    "file_path = f'{paper_dir}.yaml'\n",
    "inspect_position(file_path, 92433)"
   ]
  },
  {
   "cell_type": "code",
   "execution_count": null,
   "metadata": {},
   "outputs": [],
   "source": []
  }
 ],
 "metadata": {
  "kernelspec": {
   "display_name": "base",
   "language": "python",
   "name": "python3"
  },
  "language_info": {
   "codemirror_mode": {
    "name": "ipython",
    "version": 3
   },
   "file_extension": ".py",
   "mimetype": "text/x-python",
   "name": "python",
   "nbconvert_exporter": "python",
   "pygments_lexer": "ipython3",
   "version": "3.8.8"
  }
 },
 "nbformat": 4,
 "nbformat_minor": 2
}
